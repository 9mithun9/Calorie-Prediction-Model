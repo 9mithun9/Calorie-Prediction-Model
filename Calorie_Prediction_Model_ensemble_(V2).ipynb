{
  "metadata": {
    "kernelspec": {
      "language": "python",
      "display_name": "Python 3",
      "name": "python3"
    },
    "language_info": {
      "name": "python",
      "version": "3.11.11",
      "mimetype": "text/x-python",
      "codemirror_mode": {
        "name": "ipython",
        "version": 3
      },
      "pygments_lexer": "ipython3",
      "nbconvert_exporter": "python",
      "file_extension": ".py"
    },
    "kaggle": {
      "accelerator": "none",
      "dataSources": [
        {
          "sourceId": 91716,
          "databundleVersionId": 11893428,
          "sourceType": "competition"
        }
      ],
      "isInternetEnabled": true,
      "language": "python",
      "sourceType": "notebook",
      "isGpuEnabled": false
    },
    "colab": {
      "provenance": [],
      "include_colab_link": true
    }
  },
  "nbformat_minor": 0,
  "nbformat": 4,
  "cells": [
    {
      "cell_type": "markdown",
      "metadata": {
        "id": "view-in-github",
        "colab_type": "text"
      },
      "source": [
        "<a href=\"https://colab.research.google.com/github/9mithun9/Calorie-Prediction-Model/blob/main/Calorie_Prediction_Model_ensemble_(V2).ipynb\" target=\"_parent\"><img src=\"https://colab.research.google.com/assets/colab-badge.svg\" alt=\"Open In Colab\"/></a>"
      ]
    },
    {
      "cell_type": "markdown",
      "source": [
        "**Installation and Dataset Download**\n",
        "\n",
        "\n",
        "*   install necessary libraries\n",
        "*   downloaded data from a kaggle competition\n",
        "\n"
      ],
      "metadata": {
        "id": "bP8ufvvjbfGZ"
      }
    },
    {
      "cell_type": "code",
      "source": [
        "!pip install opendatasets"
      ],
      "metadata": {
        "colab": {
          "base_uri": "https://localhost:8080/"
        },
        "collapsed": true,
        "id": "s0fDrBgbZ6r3",
        "outputId": "505aecde-fe0b-439d-fd37-68ec7f2bb5bf"
      },
      "execution_count": 4,
      "outputs": [
        {
          "output_type": "stream",
          "name": "stdout",
          "text": [
            "Collecting opendatasets\n",
            "  Downloading opendatasets-0.1.22-py3-none-any.whl.metadata (9.2 kB)\n",
            "Requirement already satisfied: tqdm in /usr/local/lib/python3.11/dist-packages (from opendatasets) (4.67.1)\n",
            "Requirement already satisfied: kaggle in /usr/local/lib/python3.11/dist-packages (from opendatasets) (1.7.4.2)\n",
            "Requirement already satisfied: click in /usr/local/lib/python3.11/dist-packages (from opendatasets) (8.1.8)\n",
            "Requirement already satisfied: bleach in /usr/local/lib/python3.11/dist-packages (from kaggle->opendatasets) (6.2.0)\n",
            "Requirement already satisfied: certifi>=14.05.14 in /usr/local/lib/python3.11/dist-packages (from kaggle->opendatasets) (2025.4.26)\n",
            "Requirement already satisfied: charset-normalizer in /usr/local/lib/python3.11/dist-packages (from kaggle->opendatasets) (3.4.2)\n",
            "Requirement already satisfied: idna in /usr/local/lib/python3.11/dist-packages (from kaggle->opendatasets) (3.10)\n",
            "Requirement already satisfied: protobuf in /usr/local/lib/python3.11/dist-packages (from kaggle->opendatasets) (5.29.4)\n",
            "Requirement already satisfied: python-dateutil>=2.5.3 in /usr/local/lib/python3.11/dist-packages (from kaggle->opendatasets) (2.9.0.post0)\n",
            "Requirement already satisfied: python-slugify in /usr/local/lib/python3.11/dist-packages (from kaggle->opendatasets) (8.0.4)\n",
            "Requirement already satisfied: requests in /usr/local/lib/python3.11/dist-packages (from kaggle->opendatasets) (2.32.3)\n",
            "Requirement already satisfied: setuptools>=21.0.0 in /usr/local/lib/python3.11/dist-packages (from kaggle->opendatasets) (75.2.0)\n",
            "Requirement already satisfied: six>=1.10 in /usr/local/lib/python3.11/dist-packages (from kaggle->opendatasets) (1.17.0)\n",
            "Requirement already satisfied: text-unidecode in /usr/local/lib/python3.11/dist-packages (from kaggle->opendatasets) (1.3)\n",
            "Requirement already satisfied: urllib3>=1.15.1 in /usr/local/lib/python3.11/dist-packages (from kaggle->opendatasets) (2.4.0)\n",
            "Requirement already satisfied: webencodings in /usr/local/lib/python3.11/dist-packages (from kaggle->opendatasets) (0.5.1)\n",
            "Downloading opendatasets-0.1.22-py3-none-any.whl (15 kB)\n",
            "Installing collected packages: opendatasets\n",
            "Successfully installed opendatasets-0.1.22\n"
          ]
        }
      ]
    },
    {
      "cell_type": "code",
      "source": [
        "import opendatasets as od"
      ],
      "metadata": {
        "id": "kUJ_o6GuaJIi"
      },
      "execution_count": 5,
      "outputs": []
    },
    {
      "cell_type": "code",
      "source": [
        "dataset_url = 'https://www.kaggle.com/competitions/playground-series-s5e5/data'"
      ],
      "metadata": {
        "id": "J_bWzCqZaQeC"
      },
      "execution_count": 6,
      "outputs": []
    },
    {
      "cell_type": "code",
      "source": [
        "od.download(dataset_url)"
      ],
      "metadata": {
        "colab": {
          "base_uri": "https://localhost:8080/"
        },
        "id": "znSBKiKLaSyr",
        "outputId": "c25c8ae1-16ee-45d4-9c8e-0605a8ac4dce"
      },
      "execution_count": 7,
      "outputs": [
        {
          "output_type": "stream",
          "name": "stdout",
          "text": [
            "Please provide your Kaggle credentials to download this dataset. Learn more: http://bit.ly/kaggle-creds\n",
            "Your Kaggle username: mehedferewrfs\n",
            "Your Kaggle Key: ··········\n",
            "Extracting archive ./playground-series-s5e5/playground-series-s5e5.zip to ./playground-series-s5e5\n"
          ]
        }
      ]
    },
    {
      "cell_type": "code",
      "source": [
        "data_dir = 'playground-series-s5e5'"
      ],
      "metadata": {
        "id": "8uvq96x9afir"
      },
      "execution_count": 8,
      "outputs": []
    },
    {
      "cell_type": "code",
      "source": [
        "import pandas as pd"
      ],
      "metadata": {
        "id": "q7hJ76gTauJp"
      },
      "execution_count": 9,
      "outputs": []
    },
    {
      "cell_type": "code",
      "source": [
        "train_df = pd.read_csv(data_dir+'/train.csv')\n",
        "test_df = pd.read_csv(data_dir+'/test.csv')\n",
        "submission_df = pd.read_csv(data_dir+'/sample_submission.csv')"
      ],
      "metadata": {
        "trusted": true,
        "execution": {
          "iopub.status.busy": "2025-05-07T05:52:02.146297Z",
          "iopub.execute_input": "2025-05-07T05:52:02.146721Z",
          "iopub.status.idle": "2025-05-07T05:52:02.96642Z",
          "shell.execute_reply.started": "2025-05-07T05:52:02.14669Z",
          "shell.execute_reply": "2025-05-07T05:52:02.965154Z"
        },
        "id": "wwF-1Ru0ZjW4"
      },
      "outputs": [],
      "execution_count": 10
    },
    {
      "cell_type": "markdown",
      "source": [
        "**Feature Engineering**\n",
        "\n",
        "*   made male and female binary\n",
        "*   added BMI column with weight and height\n",
        "*   added popular calories prediction formula associated with heart_rate, age and duration\n",
        "\n"
      ],
      "metadata": {
        "id": "m6p-HhZxbJV5"
      }
    },
    {
      "cell_type": "code",
      "source": [
        "train_df['Sex'] = train_df.Sex.map({'male':1, 'female':0})\n",
        "test_df['Sex'] = test_df.Sex.map({'male':1, 'female':0})"
      ],
      "metadata": {
        "trusted": true,
        "execution": {
          "iopub.status.busy": "2025-05-07T05:52:04.21737Z",
          "iopub.execute_input": "2025-05-07T05:52:04.217782Z",
          "iopub.status.idle": "2025-05-07T05:52:04.295633Z",
          "shell.execute_reply.started": "2025-05-07T05:52:04.217747Z",
          "shell.execute_reply": "2025-05-07T05:52:04.294124Z"
        },
        "id": "CbvvoF48ZjW6"
      },
      "outputs": [],
      "execution_count": 11
    },
    {
      "cell_type": "code",
      "source": [
        "train_df['BMI'] = train_df['Weight']/((train_df['Height']/100)**2)\n",
        "test_df['BMI'] = test_df['Weight']/((test_df['Height']/100)**2)"
      ],
      "metadata": {
        "trusted": true,
        "execution": {
          "iopub.status.busy": "2025-05-07T05:52:06.433098Z",
          "iopub.execute_input": "2025-05-07T05:52:06.433588Z",
          "iopub.status.idle": "2025-05-07T05:52:06.447892Z",
          "shell.execute_reply.started": "2025-05-07T05:52:06.433554Z",
          "shell.execute_reply": "2025-05-07T05:52:06.44682Z"
        },
        "id": "U0_Ot4R-ZjW7"
      },
      "outputs": [],
      "execution_count": 12
    },
    {
      "cell_type": "code",
      "source": [
        "import numpy as np"
      ],
      "metadata": {
        "id": "kci1ldhBbEU3"
      },
      "execution_count": 13,
      "outputs": []
    },
    {
      "cell_type": "code",
      "source": [
        "train_df['ACSM'] = np.where(\n",
        "    train_df['Sex'] == 1,\n",
        "    ((-55.0969 + (0.6309 * train_df['Heart_Rate']) + (0.1988 * train_df['Weight']) + (0.2017 * train_df['Age'])) / 4.184) * train_df['Duration'],\n",
        "    ((-20.4022 + (0.4472 * train_df['Heart_Rate']) - (0.1263 * train_df['Weight']) + (0.074 * train_df['Age'])) / 4.184) * train_df['Duration']\n",
        "\n",
        ")"
      ],
      "metadata": {
        "trusted": true,
        "execution": {
          "iopub.status.busy": "2025-05-07T05:52:08.06215Z",
          "iopub.execute_input": "2025-05-07T05:52:08.063084Z",
          "iopub.status.idle": "2025-05-07T05:52:08.100201Z",
          "shell.execute_reply.started": "2025-05-07T05:52:08.06305Z",
          "shell.execute_reply": "2025-05-07T05:52:08.099377Z"
        },
        "id": "Xoc_em46ZjW-"
      },
      "outputs": [],
      "execution_count": 14
    },
    {
      "cell_type": "code",
      "source": [
        "test_df['ACSM'] = np.where(\n",
        "    test_df['Sex'] == 1,\n",
        "    ((-55.0969 + (0.6309 * test_df['Heart_Rate']) + (0.1988 * test_df['Weight']) + (0.2017 * test_df['Age'])) / 4.184) * test_df['Duration'],\n",
        "    ((-20.4022 + (0.4472 * test_df['Heart_Rate']) - (0.1263 * test_df['Weight']) + (0.074 * test_df['Age'])) / 4.184) * test_df['Duration']\n",
        "\n",
        ")"
      ],
      "metadata": {
        "trusted": true,
        "execution": {
          "iopub.status.busy": "2025-05-07T05:52:10.355078Z",
          "iopub.execute_input": "2025-05-07T05:52:10.355507Z",
          "iopub.status.idle": "2025-05-07T05:52:10.376032Z",
          "shell.execute_reply.started": "2025-05-07T05:52:10.355476Z",
          "shell.execute_reply": "2025-05-07T05:52:10.37485Z"
        },
        "id": "3WoMrLPWZjXA"
      },
      "outputs": [],
      "execution_count": 15
    },
    {
      "cell_type": "code",
      "source": [
        "train_df.head()"
      ],
      "metadata": {
        "trusted": true,
        "execution": {
          "iopub.status.busy": "2025-05-06T17:48:38.951481Z",
          "iopub.execute_input": "2025-05-06T17:48:38.951721Z",
          "iopub.status.idle": "2025-05-06T17:48:38.963054Z",
          "shell.execute_reply.started": "2025-05-06T17:48:38.951705Z",
          "shell.execute_reply": "2025-05-06T17:48:38.962163Z"
        },
        "id": "ECJGeixfZjXB",
        "outputId": "75101a81-4874-4f93-aa90-b29b467135ce",
        "colab": {
          "base_uri": "https://localhost:8080/",
          "height": 206
        }
      },
      "outputs": [
        {
          "output_type": "execute_result",
          "data": {
            "text/plain": [
              "   id  Sex  Age  Height  Weight  Duration  Heart_Rate  Body_Temp  Calories  \\\n",
              "0   0    1   36   189.0    82.0      26.0       101.0       41.0     150.0   \n",
              "1   1    0   64   163.0    60.0       8.0        85.0       39.7      34.0   \n",
              "2   2    0   51   161.0    64.0       7.0        84.0       39.8      29.0   \n",
              "3   3    1   20   192.0    90.0      25.0       105.0       40.7     140.0   \n",
              "4   4    0   38   166.0    61.0      25.0       102.0       40.6     146.0   \n",
              "\n",
              "         BMI        ACSM  \n",
              "0  22.955684  200.013576  \n",
              "1  22.582709   28.236711  \n",
              "2  24.690405   21.504254  \n",
              "3  24.414062  197.619503  \n",
              "4  22.136740  121.414316  "
            ],
            "text/html": [
              "\n",
              "  <div id=\"df-95e8e5bc-055e-420a-9fc3-4383306a2be7\" class=\"colab-df-container\">\n",
              "    <div>\n",
              "<style scoped>\n",
              "    .dataframe tbody tr th:only-of-type {\n",
              "        vertical-align: middle;\n",
              "    }\n",
              "\n",
              "    .dataframe tbody tr th {\n",
              "        vertical-align: top;\n",
              "    }\n",
              "\n",
              "    .dataframe thead th {\n",
              "        text-align: right;\n",
              "    }\n",
              "</style>\n",
              "<table border=\"1\" class=\"dataframe\">\n",
              "  <thead>\n",
              "    <tr style=\"text-align: right;\">\n",
              "      <th></th>\n",
              "      <th>id</th>\n",
              "      <th>Sex</th>\n",
              "      <th>Age</th>\n",
              "      <th>Height</th>\n",
              "      <th>Weight</th>\n",
              "      <th>Duration</th>\n",
              "      <th>Heart_Rate</th>\n",
              "      <th>Body_Temp</th>\n",
              "      <th>Calories</th>\n",
              "      <th>BMI</th>\n",
              "      <th>ACSM</th>\n",
              "    </tr>\n",
              "  </thead>\n",
              "  <tbody>\n",
              "    <tr>\n",
              "      <th>0</th>\n",
              "      <td>0</td>\n",
              "      <td>1</td>\n",
              "      <td>36</td>\n",
              "      <td>189.0</td>\n",
              "      <td>82.0</td>\n",
              "      <td>26.0</td>\n",
              "      <td>101.0</td>\n",
              "      <td>41.0</td>\n",
              "      <td>150.0</td>\n",
              "      <td>22.955684</td>\n",
              "      <td>200.013576</td>\n",
              "    </tr>\n",
              "    <tr>\n",
              "      <th>1</th>\n",
              "      <td>1</td>\n",
              "      <td>0</td>\n",
              "      <td>64</td>\n",
              "      <td>163.0</td>\n",
              "      <td>60.0</td>\n",
              "      <td>8.0</td>\n",
              "      <td>85.0</td>\n",
              "      <td>39.7</td>\n",
              "      <td>34.0</td>\n",
              "      <td>22.582709</td>\n",
              "      <td>28.236711</td>\n",
              "    </tr>\n",
              "    <tr>\n",
              "      <th>2</th>\n",
              "      <td>2</td>\n",
              "      <td>0</td>\n",
              "      <td>51</td>\n",
              "      <td>161.0</td>\n",
              "      <td>64.0</td>\n",
              "      <td>7.0</td>\n",
              "      <td>84.0</td>\n",
              "      <td>39.8</td>\n",
              "      <td>29.0</td>\n",
              "      <td>24.690405</td>\n",
              "      <td>21.504254</td>\n",
              "    </tr>\n",
              "    <tr>\n",
              "      <th>3</th>\n",
              "      <td>3</td>\n",
              "      <td>1</td>\n",
              "      <td>20</td>\n",
              "      <td>192.0</td>\n",
              "      <td>90.0</td>\n",
              "      <td>25.0</td>\n",
              "      <td>105.0</td>\n",
              "      <td>40.7</td>\n",
              "      <td>140.0</td>\n",
              "      <td>24.414062</td>\n",
              "      <td>197.619503</td>\n",
              "    </tr>\n",
              "    <tr>\n",
              "      <th>4</th>\n",
              "      <td>4</td>\n",
              "      <td>0</td>\n",
              "      <td>38</td>\n",
              "      <td>166.0</td>\n",
              "      <td>61.0</td>\n",
              "      <td>25.0</td>\n",
              "      <td>102.0</td>\n",
              "      <td>40.6</td>\n",
              "      <td>146.0</td>\n",
              "      <td>22.136740</td>\n",
              "      <td>121.414316</td>\n",
              "    </tr>\n",
              "  </tbody>\n",
              "</table>\n",
              "</div>\n",
              "    <div class=\"colab-df-buttons\">\n",
              "\n",
              "  <div class=\"colab-df-container\">\n",
              "    <button class=\"colab-df-convert\" onclick=\"convertToInteractive('df-95e8e5bc-055e-420a-9fc3-4383306a2be7')\"\n",
              "            title=\"Convert this dataframe to an interactive table.\"\n",
              "            style=\"display:none;\">\n",
              "\n",
              "  <svg xmlns=\"http://www.w3.org/2000/svg\" height=\"24px\" viewBox=\"0 -960 960 960\">\n",
              "    <path d=\"M120-120v-720h720v720H120Zm60-500h600v-160H180v160Zm220 220h160v-160H400v160Zm0 220h160v-160H400v160ZM180-400h160v-160H180v160Zm440 0h160v-160H620v160ZM180-180h160v-160H180v160Zm440 0h160v-160H620v160Z\"/>\n",
              "  </svg>\n",
              "    </button>\n",
              "\n",
              "  <style>\n",
              "    .colab-df-container {\n",
              "      display:flex;\n",
              "      gap: 12px;\n",
              "    }\n",
              "\n",
              "    .colab-df-convert {\n",
              "      background-color: #E8F0FE;\n",
              "      border: none;\n",
              "      border-radius: 50%;\n",
              "      cursor: pointer;\n",
              "      display: none;\n",
              "      fill: #1967D2;\n",
              "      height: 32px;\n",
              "      padding: 0 0 0 0;\n",
              "      width: 32px;\n",
              "    }\n",
              "\n",
              "    .colab-df-convert:hover {\n",
              "      background-color: #E2EBFA;\n",
              "      box-shadow: 0px 1px 2px rgba(60, 64, 67, 0.3), 0px 1px 3px 1px rgba(60, 64, 67, 0.15);\n",
              "      fill: #174EA6;\n",
              "    }\n",
              "\n",
              "    .colab-df-buttons div {\n",
              "      margin-bottom: 4px;\n",
              "    }\n",
              "\n",
              "    [theme=dark] .colab-df-convert {\n",
              "      background-color: #3B4455;\n",
              "      fill: #D2E3FC;\n",
              "    }\n",
              "\n",
              "    [theme=dark] .colab-df-convert:hover {\n",
              "      background-color: #434B5C;\n",
              "      box-shadow: 0px 1px 3px 1px rgba(0, 0, 0, 0.15);\n",
              "      filter: drop-shadow(0px 1px 2px rgba(0, 0, 0, 0.3));\n",
              "      fill: #FFFFFF;\n",
              "    }\n",
              "  </style>\n",
              "\n",
              "    <script>\n",
              "      const buttonEl =\n",
              "        document.querySelector('#df-95e8e5bc-055e-420a-9fc3-4383306a2be7 button.colab-df-convert');\n",
              "      buttonEl.style.display =\n",
              "        google.colab.kernel.accessAllowed ? 'block' : 'none';\n",
              "\n",
              "      async function convertToInteractive(key) {\n",
              "        const element = document.querySelector('#df-95e8e5bc-055e-420a-9fc3-4383306a2be7');\n",
              "        const dataTable =\n",
              "          await google.colab.kernel.invokeFunction('convertToInteractive',\n",
              "                                                    [key], {});\n",
              "        if (!dataTable) return;\n",
              "\n",
              "        const docLinkHtml = 'Like what you see? Visit the ' +\n",
              "          '<a target=\"_blank\" href=https://colab.research.google.com/notebooks/data_table.ipynb>data table notebook</a>'\n",
              "          + ' to learn more about interactive tables.';\n",
              "        element.innerHTML = '';\n",
              "        dataTable['output_type'] = 'display_data';\n",
              "        await google.colab.output.renderOutput(dataTable, element);\n",
              "        const docLink = document.createElement('div');\n",
              "        docLink.innerHTML = docLinkHtml;\n",
              "        element.appendChild(docLink);\n",
              "      }\n",
              "    </script>\n",
              "  </div>\n",
              "\n",
              "\n",
              "    <div id=\"df-a4f16267-7081-497d-9bcb-1bdd9bf883d8\">\n",
              "      <button class=\"colab-df-quickchart\" onclick=\"quickchart('df-a4f16267-7081-497d-9bcb-1bdd9bf883d8')\"\n",
              "                title=\"Suggest charts\"\n",
              "                style=\"display:none;\">\n",
              "\n",
              "<svg xmlns=\"http://www.w3.org/2000/svg\" height=\"24px\"viewBox=\"0 0 24 24\"\n",
              "     width=\"24px\">\n",
              "    <g>\n",
              "        <path d=\"M19 3H5c-1.1 0-2 .9-2 2v14c0 1.1.9 2 2 2h14c1.1 0 2-.9 2-2V5c0-1.1-.9-2-2-2zM9 17H7v-7h2v7zm4 0h-2V7h2v10zm4 0h-2v-4h2v4z\"/>\n",
              "    </g>\n",
              "</svg>\n",
              "      </button>\n",
              "\n",
              "<style>\n",
              "  .colab-df-quickchart {\n",
              "      --bg-color: #E8F0FE;\n",
              "      --fill-color: #1967D2;\n",
              "      --hover-bg-color: #E2EBFA;\n",
              "      --hover-fill-color: #174EA6;\n",
              "      --disabled-fill-color: #AAA;\n",
              "      --disabled-bg-color: #DDD;\n",
              "  }\n",
              "\n",
              "  [theme=dark] .colab-df-quickchart {\n",
              "      --bg-color: #3B4455;\n",
              "      --fill-color: #D2E3FC;\n",
              "      --hover-bg-color: #434B5C;\n",
              "      --hover-fill-color: #FFFFFF;\n",
              "      --disabled-bg-color: #3B4455;\n",
              "      --disabled-fill-color: #666;\n",
              "  }\n",
              "\n",
              "  .colab-df-quickchart {\n",
              "    background-color: var(--bg-color);\n",
              "    border: none;\n",
              "    border-radius: 50%;\n",
              "    cursor: pointer;\n",
              "    display: none;\n",
              "    fill: var(--fill-color);\n",
              "    height: 32px;\n",
              "    padding: 0;\n",
              "    width: 32px;\n",
              "  }\n",
              "\n",
              "  .colab-df-quickchart:hover {\n",
              "    background-color: var(--hover-bg-color);\n",
              "    box-shadow: 0 1px 2px rgba(60, 64, 67, 0.3), 0 1px 3px 1px rgba(60, 64, 67, 0.15);\n",
              "    fill: var(--button-hover-fill-color);\n",
              "  }\n",
              "\n",
              "  .colab-df-quickchart-complete:disabled,\n",
              "  .colab-df-quickchart-complete:disabled:hover {\n",
              "    background-color: var(--disabled-bg-color);\n",
              "    fill: var(--disabled-fill-color);\n",
              "    box-shadow: none;\n",
              "  }\n",
              "\n",
              "  .colab-df-spinner {\n",
              "    border: 2px solid var(--fill-color);\n",
              "    border-color: transparent;\n",
              "    border-bottom-color: var(--fill-color);\n",
              "    animation:\n",
              "      spin 1s steps(1) infinite;\n",
              "  }\n",
              "\n",
              "  @keyframes spin {\n",
              "    0% {\n",
              "      border-color: transparent;\n",
              "      border-bottom-color: var(--fill-color);\n",
              "      border-left-color: var(--fill-color);\n",
              "    }\n",
              "    20% {\n",
              "      border-color: transparent;\n",
              "      border-left-color: var(--fill-color);\n",
              "      border-top-color: var(--fill-color);\n",
              "    }\n",
              "    30% {\n",
              "      border-color: transparent;\n",
              "      border-left-color: var(--fill-color);\n",
              "      border-top-color: var(--fill-color);\n",
              "      border-right-color: var(--fill-color);\n",
              "    }\n",
              "    40% {\n",
              "      border-color: transparent;\n",
              "      border-right-color: var(--fill-color);\n",
              "      border-top-color: var(--fill-color);\n",
              "    }\n",
              "    60% {\n",
              "      border-color: transparent;\n",
              "      border-right-color: var(--fill-color);\n",
              "    }\n",
              "    80% {\n",
              "      border-color: transparent;\n",
              "      border-right-color: var(--fill-color);\n",
              "      border-bottom-color: var(--fill-color);\n",
              "    }\n",
              "    90% {\n",
              "      border-color: transparent;\n",
              "      border-bottom-color: var(--fill-color);\n",
              "    }\n",
              "  }\n",
              "</style>\n",
              "\n",
              "      <script>\n",
              "        async function quickchart(key) {\n",
              "          const quickchartButtonEl =\n",
              "            document.querySelector('#' + key + ' button');\n",
              "          quickchartButtonEl.disabled = true;  // To prevent multiple clicks.\n",
              "          quickchartButtonEl.classList.add('colab-df-spinner');\n",
              "          try {\n",
              "            const charts = await google.colab.kernel.invokeFunction(\n",
              "                'suggestCharts', [key], {});\n",
              "          } catch (error) {\n",
              "            console.error('Error during call to suggestCharts:', error);\n",
              "          }\n",
              "          quickchartButtonEl.classList.remove('colab-df-spinner');\n",
              "          quickchartButtonEl.classList.add('colab-df-quickchart-complete');\n",
              "        }\n",
              "        (() => {\n",
              "          let quickchartButtonEl =\n",
              "            document.querySelector('#df-a4f16267-7081-497d-9bcb-1bdd9bf883d8 button');\n",
              "          quickchartButtonEl.style.display =\n",
              "            google.colab.kernel.accessAllowed ? 'block' : 'none';\n",
              "        })();\n",
              "      </script>\n",
              "    </div>\n",
              "\n",
              "    </div>\n",
              "  </div>\n"
            ],
            "application/vnd.google.colaboratory.intrinsic+json": {
              "type": "dataframe",
              "variable_name": "train_df"
            }
          },
          "metadata": {},
          "execution_count": 16
        }
      ],
      "execution_count": 16
    },
    {
      "cell_type": "markdown",
      "source": [
        "**Spliting Data**\n",
        "\n",
        "\n",
        "*   Separated 75% data for training\n",
        "*   25% data for validation_df\n",
        "\n"
      ],
      "metadata": {
        "id": "jPEsxSOlbx_e"
      }
    },
    {
      "cell_type": "code",
      "source": [
        "from sklearn.model_selection import train_test_split"
      ],
      "metadata": {
        "trusted": true,
        "execution": {
          "iopub.status.busy": "2025-05-07T05:52:13.321226Z",
          "iopub.execute_input": "2025-05-07T05:52:13.321668Z",
          "iopub.status.idle": "2025-05-07T05:52:13.326508Z",
          "shell.execute_reply.started": "2025-05-07T05:52:13.32164Z",
          "shell.execute_reply": "2025-05-07T05:52:13.325093Z"
        },
        "id": "ip2pDlFhZjXD"
      },
      "outputs": [],
      "execution_count": 17
    },
    {
      "cell_type": "code",
      "source": [
        "x_train, x_val, y_train, y_val = train_test_split(train_df, train_df['Calories'], test_size=0.25, random_state=42)"
      ],
      "metadata": {
        "trusted": true,
        "execution": {
          "iopub.status.busy": "2025-05-07T05:52:16.458104Z",
          "iopub.execute_input": "2025-05-07T05:52:16.459031Z",
          "iopub.status.idle": "2025-05-07T05:52:16.674723Z",
          "shell.execute_reply.started": "2025-05-07T05:52:16.458993Z",
          "shell.execute_reply": "2025-05-07T05:52:16.673356Z"
        },
        "id": "i1x9UM2xZjXE"
      },
      "outputs": [],
      "execution_count": 18
    },
    {
      "cell_type": "markdown",
      "source": [
        "**Columns**"
      ],
      "metadata": {
        "id": "papLyxkfb9SQ"
      }
    },
    {
      "cell_type": "code",
      "source": [
        "numerical_cols = ['Age', 'Height', 'Weight', 'Duration', 'Heart_Rate',\n",
        "       'Body_Temp', 'BMI', 'ACSM']\n",
        "target_cols = 'Calories'"
      ],
      "metadata": {
        "trusted": true,
        "execution": {
          "iopub.status.busy": "2025-05-07T05:52:19.041601Z",
          "iopub.execute_input": "2025-05-07T05:52:19.042001Z",
          "iopub.status.idle": "2025-05-07T05:52:19.048498Z",
          "shell.execute_reply.started": "2025-05-07T05:52:19.041969Z",
          "shell.execute_reply": "2025-05-07T05:52:19.047008Z"
        },
        "id": "qTOploLbZjXE"
      },
      "outputs": [],
      "execution_count": 19
    },
    {
      "cell_type": "code",
      "source": [
        "train_inputs = x_train[numerical_cols]\n",
        "train_targets = x_train[target_cols]\n",
        "val_inputs = x_val[numerical_cols]\n",
        "val_targets = x_val[target_cols]"
      ],
      "metadata": {
        "id": "KfFvueFvdfM_"
      },
      "execution_count": 20,
      "outputs": []
    },
    {
      "cell_type": "code",
      "source": [
        "from sklearn.model_selection import GridSearchCV\n",
        "from sklearn.metrics import mean_squared_error, mean_squared_log_error, make_scorer"
      ],
      "metadata": {
        "trusted": true,
        "execution": {
          "iopub.status.busy": "2025-05-07T05:52:21.535761Z",
          "iopub.execute_input": "2025-05-07T05:52:21.536149Z",
          "iopub.status.idle": "2025-05-07T05:52:21.54207Z",
          "shell.execute_reply.started": "2025-05-07T05:52:21.536119Z",
          "shell.execute_reply": "2025-05-07T05:52:21.540903Z"
        },
        "id": "vtI7XptNZjXF"
      },
      "outputs": [],
      "execution_count": 21
    },
    {
      "cell_type": "markdown",
      "source": [
        "**Log Error Function**\n",
        "\n",
        "\n",
        "*   The errors are calculated with RMSLE as per competition rules\n",
        "\n"
      ],
      "metadata": {
        "id": "8KVsLL51cQc1"
      }
    },
    {
      "cell_type": "code",
      "source": [
        "from sklearn.metrics import mean_squared_log_error\n",
        "import numpy as np\n",
        "\n",
        "def rmsle(y_true, y_pred):\n",
        "    return np.sqrt(mean_squared_log_error(y_true, y_pred))"
      ],
      "metadata": {
        "trusted": true,
        "execution": {
          "iopub.status.busy": "2025-05-07T05:52:25.233056Z",
          "iopub.execute_input": "2025-05-07T05:52:25.233435Z",
          "iopub.status.idle": "2025-05-07T05:52:25.239789Z",
          "shell.execute_reply.started": "2025-05-07T05:52:25.233407Z",
          "shell.execute_reply": "2025-05-07T05:52:25.238157Z"
        },
        "id": "nU-KSL0jZjXF"
      },
      "outputs": [],
      "execution_count": 22
    },
    {
      "cell_type": "code",
      "source": [
        "rmsle_scorer = make_scorer(rmsle, greater_is_better=False)"
      ],
      "metadata": {
        "trusted": true,
        "execution": {
          "iopub.status.busy": "2025-05-07T05:49:33.543569Z",
          "iopub.execute_input": "2025-05-07T05:49:33.544016Z",
          "iopub.status.idle": "2025-05-07T05:49:33.550015Z",
          "shell.execute_reply.started": "2025-05-07T05:49:33.543976Z",
          "shell.execute_reply": "2025-05-07T05:49:33.548508Z"
        },
        "id": "lwhOugT_ZjXG"
      },
      "outputs": [],
      "execution_count": 23
    },
    {
      "cell_type": "code",
      "source": [
        "def rmsle_2(y_true, y_pred):\n",
        "    # Ensure no negative or zero values (log can't handle them)\n",
        "    y_true = np.array(y_true)\n",
        "    y_pred = np.array(y_pred)\n",
        "\n",
        "    # Clip predictions to avoid log(0)\n",
        "    y_pred = np.clip(y_pred, a_min=0, a_max=None)\n",
        "    y_true = np.clip(y_true, a_min=0, a_max=None)\n",
        "\n",
        "    # Compute log-transformed values\n",
        "    log_true = np.log1p(y_true)  # log1p(x) = log(1 + x)\n",
        "    log_pred = np.log1p(y_pred)\n",
        "\n",
        "    # Compute RMSLE\n",
        "    squared_log_error = (log_true - log_pred)\n",
        "    mean_squared_log_error = np.mean(squared_log_error)\n",
        "    rmsle_value = np.sqrt(mean_squared_log_error)\n",
        "\n",
        "    return rmsle_value"
      ],
      "metadata": {
        "trusted": true,
        "execution": {
          "iopub.status.busy": "2025-05-07T06:05:12.195192Z",
          "iopub.execute_input": "2025-05-07T06:05:12.195654Z",
          "iopub.status.idle": "2025-05-07T06:05:12.202899Z",
          "shell.execute_reply.started": "2025-05-07T06:05:12.195621Z",
          "shell.execute_reply": "2025-05-07T06:05:12.201129Z"
        },
        "id": "AEiyui6HZjXP"
      },
      "outputs": [],
      "execution_count": 24
    },
    {
      "cell_type": "code",
      "source": [
        "def predict_and_submit(model, fname, test_inputs):\n",
        "  test_preds = model.predict(test_inputs)\n",
        "  submission_df = pd.DataFrame({\n",
        "    'id': test_df['id'],\n",
        "    'calories': test_preds\n",
        "  })\n",
        "  submission_df.to_csv(fname, index=False)\n",
        "  return submission_df"
      ],
      "metadata": {
        "id": "6c_4DV4ocdos"
      },
      "execution_count": 25,
      "outputs": []
    },
    {
      "cell_type": "code",
      "source": [
        "def evaluate(model):\n",
        "  train_preds = model.predict(train_inputs)\n",
        "  val_preds = model.predict(val_inputs)\n",
        "  train_rmse = rmsle(train_targets, train_preds)\n",
        "  val_rmse = rmsle(val_targets, val_preds)\n",
        "  print(f'Train RMSLE: {train_rmse:.5f}, Val RMSLE: {val_rmse:.5f}')\n",
        "  return train_preds, val_preds, train_rmse, val_rmse"
      ],
      "metadata": {
        "id": "unijBfQQcsCH"
      },
      "execution_count": 32,
      "outputs": []
    },
    {
      "cell_type": "code",
      "source": [
        "from sklearn.ensemble import RandomForestRegressor"
      ],
      "metadata": {
        "trusted": true,
        "execution": {
          "iopub.status.busy": "2025-05-07T05:52:33.609728Z",
          "iopub.execute_input": "2025-05-07T05:52:33.610205Z",
          "iopub.status.idle": "2025-05-07T05:52:33.615988Z",
          "shell.execute_reply.started": "2025-05-07T05:52:33.610173Z",
          "shell.execute_reply": "2025-05-07T05:52:33.614256Z"
        },
        "id": "iqMr1PzPZjXJ"
      },
      "outputs": [],
      "execution_count": 27
    },
    {
      "cell_type": "code",
      "source": [
        "rf_model = RandomForestRegressor(max_depth=17, min_samples_split=15, n_estimators=400,\n",
        "                      n_jobs=-1, random_state=42)\n",
        "rf_model.fit(train_inputs, train_targets)\n",
        "train_preds_rf, val_preds_rf, train_rmsle_rf, val_rmsle_rf = evaluate(rf_model)"
      ],
      "metadata": {
        "colab": {
          "base_uri": "https://localhost:8080/"
        },
        "id": "-z6jkY16eJQ7",
        "outputId": "2fa3cd91-a1ab-4c6c-b635-c68d390e4f48"
      },
      "execution_count": 35,
      "outputs": [
        {
          "output_type": "stream",
          "name": "stdout",
          "text": [
            "Train RMSLE: 0.04911, Val RMSLE: 0.06160\n"
          ]
        }
      ]
    },
    {
      "cell_type": "code",
      "source": [
        "!pip install xgboost"
      ],
      "metadata": {
        "colab": {
          "base_uri": "https://localhost:8080/"
        },
        "collapsed": true,
        "id": "xyDOzVLjj5Ig",
        "outputId": "1c8e49c9-46a8-4d68-ff05-6fff8992edf1"
      },
      "execution_count": 29,
      "outputs": [
        {
          "output_type": "stream",
          "name": "stdout",
          "text": [
            "Requirement already satisfied: xgboost in /usr/local/lib/python3.11/dist-packages (2.1.4)\n",
            "Requirement already satisfied: numpy in /usr/local/lib/python3.11/dist-packages (from xgboost) (2.0.2)\n",
            "Requirement already satisfied: nvidia-nccl-cu12 in /usr/local/lib/python3.11/dist-packages (from xgboost) (2.21.5)\n",
            "Requirement already satisfied: scipy in /usr/local/lib/python3.11/dist-packages (from xgboost) (1.15.2)\n"
          ]
        }
      ]
    },
    {
      "cell_type": "code",
      "source": [
        "import xgboost as xgb\n",
        "\n",
        "xgb_model = xgb.XGBRegressor(random_state=42, n_jobs=-1, n_estimators=700, learning_rate=0.08, max_depth=6)\n",
        "xgb_model.fit(train_inputs, train_targets)\n",
        "\n",
        "train_preds_xgb, val_preds_xgb, train_rmsle_xgb, val_rmsle_xgb = evaluate(xgb_model)"
      ],
      "metadata": {
        "colab": {
          "base_uri": "https://localhost:8080/"
        },
        "id": "JxYiwDfojx7X",
        "outputId": "5d946250-302d-46f9-a6e0-a027d176951d"
      },
      "execution_count": 34,
      "outputs": [
        {
          "output_type": "stream",
          "name": "stdout",
          "text": [
            "Train RMSLE: 0.05917, Val RMSLE: 0.06298\n"
          ]
        }
      ]
    },
    {
      "cell_type": "code",
      "source": [
        "import pandas as pd\n",
        "# Ensemble prediction with weights\n",
        "weight_rf = 0.6\n",
        "weight_xgb = 0.4\n",
        "\n",
        "ensemble_val_preds = (weight_rf * val_preds_rf) + (weight_xgb * val_preds_xgb)\n",
        "ensemble_val_rmsle = rmsle(val_targets, ensemble_val_preds)\n",
        "\n",
        "print(f\"Ensemble Validation RMSLE: {ensemble_val_rmsle:.5f}\")\n",
        "\n",
        "# Predict on test data using the ensemble\n",
        "test_inputs = test_df[numerical_cols]\n",
        "ensemble_test_preds = (weight_rf * rf_model.predict(test_inputs)) + (weight_xgb * xgb_model.predict(test_inputs))\n",
        "\n",
        "submission_df = pd.DataFrame({\n",
        "    'id': test_df['id'],\n",
        "    'calories': ensemble_test_preds\n",
        "  })"
      ],
      "metadata": {
        "colab": {
          "base_uri": "https://localhost:8080/"
        },
        "id": "pCPky4wxrkEF",
        "outputId": "54b54a39-83c7-4d0d-ec38-33d80d4c3f9e"
      },
      "execution_count": 39,
      "outputs": [
        {
          "output_type": "stream",
          "name": "stdout",
          "text": [
            "Ensemble Validation RMSLE: 0.06099\n"
          ]
        }
      ]
    },
    {
      "cell_type": "code",
      "source": [
        "# prompt: conevert the submission_df in to a csv file name submission_ensemble\n",
        "\n",
        "submission_df.to_csv('submission_ensemble.csv', index=False)\n"
      ],
      "metadata": {
        "id": "ciYY5GIyrHnh"
      },
      "execution_count": 40,
      "outputs": []
    }
  ]
}